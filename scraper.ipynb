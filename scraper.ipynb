{
 "cells": [
  {
   "cell_type": "code",
   "execution_count": 1,
   "id": "former-bishop",
   "metadata": {},
   "outputs": [
    {
     "name": "stdout",
     "output_type": "stream",
     "text": [
      "Requirement already satisfied: flickrapi in c:\\users\\rxcov\\anaconda3\\envs\\tf\\lib\\site-packages (2.4.0)\n",
      "Requirement already satisfied: requests-toolbelt>=0.3.1 in c:\\users\\rxcov\\anaconda3\\envs\\tf\\lib\\site-packages (from flickrapi) (0.9.1)\n",
      "Requirement already satisfied: requests-oauthlib>=0.4.0 in c:\\users\\rxcov\\anaconda3\\envs\\tf\\lib\\site-packages (from flickrapi) (1.3.0)\n",
      "Requirement already satisfied: requests>=2.2.1 in c:\\users\\rxcov\\anaconda3\\envs\\tf\\lib\\site-packages (from flickrapi) (2.25.1)\n",
      "Requirement already satisfied: six>=1.5.2 in c:\\users\\rxcov\\anaconda3\\envs\\tf\\lib\\site-packages (from flickrapi) (1.15.0)\n",
      "Requirement already satisfied: certifi>=2017.4.17 in c:\\users\\rxcov\\anaconda3\\envs\\tf\\lib\\site-packages (from requests>=2.2.1->flickrapi) (2020.12.5)\n",
      "Requirement already satisfied: urllib3<1.27,>=1.21.1 in c:\\users\\rxcov\\anaconda3\\envs\\tf\\lib\\site-packages (from requests>=2.2.1->flickrapi) (1.26.4)\n",
      "Requirement already satisfied: idna<3,>=2.5 in c:\\users\\rxcov\\anaconda3\\envs\\tf\\lib\\site-packages (from requests>=2.2.1->flickrapi) (2.10)\n",
      "Requirement already satisfied: chardet<5,>=3.0.2 in c:\\users\\rxcov\\anaconda3\\envs\\tf\\lib\\site-packages (from requests>=2.2.1->flickrapi) (3.0.4)\n",
      "Requirement already satisfied: oauthlib>=3.0.0 in c:\\users\\rxcov\\anaconda3\\envs\\tf\\lib\\site-packages (from requests-oauthlib>=0.4.0->flickrapi) (3.1.0)\n"
     ]
    }
   ],
   "source": [
    "!pip3 install flickrapi"
   ]
  },
  {
   "cell_type": "code",
   "execution_count": 5,
   "id": "prescription-clinton",
   "metadata": {},
   "outputs": [
    {
     "name": "stdout",
     "output_type": "stream",
     "text": [
      "C:\\Users\\rxcov\\Dropbox\\M.Sc. Studium\\2. Semester\\ADS - Applied Data Science\\food-classifier\\food\n",
      "<class 'dict'>\n",
      "<class 'dict'>\n",
      "<class 'dict'>\n",
      "<class 'dict'>\n",
      "<class 'dict'>\n",
      "<class 'dict'>\n",
      "<class 'dict'>\n",
      "<class 'dict'>\n",
      "<class 'dict'>\n",
      "<class 'dict'>\n"
     ]
    }
   ],
   "source": [
    "from flickrapi import FlickrAPI\n",
    "import os\n",
    "import urllib.request\n",
    "\n",
    "# Working directory\n",
    "os.chdir('C:/Users/rxcov/Dropbox/M.Sc. Studium/2. Semester/ADS - Applied Data Science/food-classifier/food/')\n",
    "path = 'C:/Users/rxcov/Dropbox/M.Sc. Studium/2. Semester/ADS - Applied Data Science/food-classifier/food/'\n",
    "print(os.getcwd())\n",
    "\n",
    "# Keys for flickr API\n",
    "FLICKR_PUBLIC = 'c6a2c45591d4973ff525042472446ca2'\n",
    "FLICKR_SECRET = '202ffe6f387ce29b'\n",
    "\n",
    "# Settings (extras = different resolution of photos)\n",
    "flickr = FlickrAPI(FLICKR_PUBLIC, FLICKR_SECRET, format='parsed-json')\n",
    "extras = 'url_s'\n",
    "\n",
    "foods = ['grapes',\n",
    " 'salad',\n",
    " 'lasagna',\n",
    " 'pancakes',\n",
    " 'sushi',\n",
    " 'ramen',\n",
    " 'tacos',\n",
    " 'pizza',\n",
    " 'steak',\n",
    " 'risotto']\n",
    "\n",
    "        \n",
    "for food in foods:\n",
    "    \n",
    "    try:\n",
    "        os.mkdir(path + str(food))\n",
    "    except OSError as e:\n",
    "        if e.errno != errno.EEXIST:\n",
    "            raise\n",
    "        \n",
    "    # Get information about photos using the flickr API\n",
    "    cont = flickr.photos.search(text=food, per_page=100, extras=extras)\n",
    "    photos = cont['photos']\n",
    "    # Object type\n",
    "    print(type(photos))\n",
    "    \n",
    "    title = 0\n",
    "\n",
    "    for i in photos[\"photo\"]:\n",
    "        url = i[\"url_s\"]\n",
    "        title = title+1\n",
    "        urllib.request.urlretrieve(url,str(food) +\"/\"+ str(food) + str(title)+'.jpg')"
   ]
  }
 ],
 "metadata": {
  "kernelspec": {
   "display_name": "Python 3",
   "language": "python",
   "name": "python3"
  },
  "language_info": {
   "codemirror_mode": {
    "name": "ipython",
    "version": 3
   },
   "file_extension": ".py",
   "mimetype": "text/x-python",
   "name": "python",
   "nbconvert_exporter": "python",
   "pygments_lexer": "ipython3",
   "version": "3.8.8"
  }
 },
 "nbformat": 4,
 "nbformat_minor": 5
}
