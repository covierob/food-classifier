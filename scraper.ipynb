{
 "cells": [
  {
   "cell_type": "code",
   "execution_count": 1,
   "metadata": {},
   "outputs": [
    {
     "name": "stdout",
     "output_type": "stream",
     "text": [
      "Requirement already satisfied: flickrapi in c:\\users\\rxcov\\anaconda3\\envs\\tf\\lib\\site-packages (2.4.0)\n",
      "Requirement already satisfied: requests-toolbelt>=0.3.1 in c:\\users\\rxcov\\anaconda3\\envs\\tf\\lib\\site-packages (from flickrapi) (0.9.1)\n",
      "Requirement already satisfied: requests-oauthlib>=0.4.0 in c:\\users\\rxcov\\anaconda3\\envs\\tf\\lib\\site-packages (from flickrapi) (1.3.0)\n",
      "Requirement already satisfied: requests>=2.2.1 in c:\\users\\rxcov\\anaconda3\\envs\\tf\\lib\\site-packages (from flickrapi) (2.25.1)\n",
      "Requirement already satisfied: six>=1.5.2 in c:\\users\\rxcov\\anaconda3\\envs\\tf\\lib\\site-packages (from flickrapi) (1.15.0)\n",
      "Requirement already satisfied: certifi>=2017.4.17 in c:\\users\\rxcov\\anaconda3\\envs\\tf\\lib\\site-packages (from requests>=2.2.1->flickrapi) (2020.12.5)\n",
      "Requirement already satisfied: urllib3<1.27,>=1.21.1 in c:\\users\\rxcov\\anaconda3\\envs\\tf\\lib\\site-packages (from requests>=2.2.1->flickrapi) (1.26.4)\n",
      "Requirement already satisfied: idna<3,>=2.5 in c:\\users\\rxcov\\anaconda3\\envs\\tf\\lib\\site-packages (from requests>=2.2.1->flickrapi) (2.10)\n",
      "Requirement already satisfied: chardet<5,>=3.0.2 in c:\\users\\rxcov\\anaconda3\\envs\\tf\\lib\\site-packages (from requests>=2.2.1->flickrapi) (3.0.4)\n",
      "Requirement already satisfied: oauthlib>=3.0.0 in c:\\users\\rxcov\\anaconda3\\envs\\tf\\lib\\site-packages (from requests-oauthlib>=0.4.0->flickrapi) (3.1.0)\n"
     ]
    }
   ],
   "source": [
    "# !pip3 install flickrapi"
   ]
  },
  {
   "cell_type": "code",
   "execution_count": null,
   "metadata": {},
   "outputs": [],
   "source": [
    "# from flickrapi import FlickrAPI\n",
    "# import os\n",
    "# import urllib.request\n",
    "\n",
    "# # Working directory\n",
    "# os.chdir('C:/Users/rxcov/Dropbox/M.Sc. Studium/2. Semester/ADS - Applied Data Science/food-classifier/food/')\n",
    "# path = 'C:/Users/rxcov/Dropbox/M.Sc. Studium/2. Semester/ADS - Applied Data Science/food-classifier/food/'\n",
    "# print(os.getcwd())\n",
    "\n",
    "# # Keys for flickr API\n",
    "# FLICKR_PUBLIC = 'c6a2c45591d4973ff525042472446ca2'\n",
    "# FLICKR_SECRET = '202ffe6f387ce29b'\n",
    "\n",
    "# # Settings (extras = different resolution of photos)\n",
    "# flickr = FlickrAPI(FLICKR_PUBLIC, FLICKR_SECRET, format='parsed-json')\n",
    "# extras = 'url_s'\n",
    "\n",
    "# foods = ['grapes',\n",
    "#  'salad',\n",
    "#  'lasagna',\n",
    "#  'pancakes',\n",
    "#  'sushi',\n",
    "#  'ramen',\n",
    "#  'tacos',\n",
    "#  'pizza',\n",
    "#  'steak',\n",
    "#  'risotto']\n",
    "\n",
    "        \n",
    "# for food in foods:\n",
    "    \n",
    "#     try:\n",
    "#         os.mkdir(path + str(food))\n",
    "#     except OSError as e:\n",
    "#         if e.errno != errno.EEXIST:\n",
    "#             raise\n",
    "        \n",
    "#     # Get information about photos using the flickr API\n",
    "#     cont = flickr.photos.search(text=food, per_page=100, extras=extras)\n",
    "#     photos = cont['photos']\n",
    "#     # Object type\n",
    "#     print(type(photos))\n",
    "    \n",
    "#     title = 0\n",
    "\n",
    "#     for i in photos[\"photo\"]:\n",
    "#         url = i[\"url_s\"]\n",
    "#         title = title+1\n",
    "#         urllib.request.urlretrieve(url,str(food) +\"/\"+ str(food) + str(title)+'.jpg')"
   ]
  },
  {
   "cell_type": "markdown",
   "metadata": {},
   "source": [
    "## Google Images Scraper\n",
    "\n",
    "Saves n number of images for specific search query and saves them in same repository (in this case under images)\n",
    "Source: https://towardsdatascience.com/image-scraping-with-python-a96feda8af2d\n",
    "Flickrapi will not be used any further, as quality of pictures is to bad for feeding the classification model."
   ]
  },
  {
   "cell_type": "code",
   "execution_count": 12,
   "metadata": {},
   "outputs": [],
   "source": [
    "!pip3 install selenium\n",
    "\n",
    "def fetch_image_urls(query:str, max_links_to_fetch:int, wd:webdriver, sleep_between_interactions:int=1):\n",
    "    def scroll_to_end(wd):\n",
    "        wd.execute_script(\"window.scrollTo(0, document.body.scrollHeight);\")\n",
    "        time.sleep(sleep_between_interactions)    \n",
    "    \n",
    "    # build the google query\n",
    "    search_url = \"https://www.google.com/search?safe=off&site=&tbm=isch&source=hp&q={q}&oq={q}&gs_l=img\"\n",
    "\n",
    "    # load the page\n",
    "    wd.get(search_url.format(q=query))\n",
    "\n",
    "    image_urls = set()\n",
    "    image_count = 0\n",
    "    results_start = 0\n",
    "    while image_count < max_links_to_fetch:\n",
    "        scroll_to_end(wd)\n",
    "\n",
    "        # get all image thumbnail results\n",
    "        thumbnail_results = wd.find_elements_by_css_selector(\"img.Q4LuWd\")\n",
    "        number_results = len(thumbnail_results)\n",
    "        \n",
    "        print(f\"Found: {number_results} search results. Extracting links from {results_start}:{number_results}\")\n",
    "        \n",
    "        for img in thumbnail_results[results_start:number_results]:\n",
    "            # try to click every thumbnail such that we can get the real image behind it\n",
    "            try:\n",
    "                img.click()\n",
    "                time.sleep(sleep_between_interactions)\n",
    "            except Exception:\n",
    "                continue\n",
    "\n",
    "            # extract image urls    \n",
    "            actual_images = wd.find_elements_by_css_selector('img.n3VNCb')\n",
    "            for actual_image in actual_images:\n",
    "                if actual_image.get_attribute('src') and 'http' in actual_image.get_attribute('src'):\n",
    "                    image_urls.add(actual_image.get_attribute('src'))\n",
    "\n",
    "            image_count = len(image_urls)\n",
    "\n",
    "            if len(image_urls) >= max_links_to_fetch:\n",
    "                print(f\"Found: {len(image_urls)} image links, done!\")\n",
    "                break\n",
    "        else:\n",
    "            print(\"Found:\", len(image_urls), \"image links, looking for more ...\")\n",
    "            time.sleep(30)\n",
    "            return\n",
    "            load_more_button = wd.find_element_by_css_selector(\".mye4qd\")\n",
    "            if load_more_button:\n",
    "                wd.execute_script(\"document.querySelector('.mye4qd').click();\")\n",
    "\n",
    "        # move the result startpoint further down\n",
    "        results_start = len(thumbnail_results)\n",
    "\n",
    "    return image_urls"
   ]
  },
  {
   "cell_type": "code",
   "execution_count": 22,
   "metadata": {},
   "outputs": [
    {
     "name": "stdout",
     "output_type": "stream",
     "text": [
      "Requirement already satisfied: Pillow in c:\\users\\manpr\\anaconda3\\lib\\site-packages (7.2.0)\n"
     ]
    }
   ],
   "source": [
    "!pip3 install Pillow\n",
    "import io\n",
    "from PIL import Image\n",
    "import hashlib\n",
    "\n",
    "\n",
    "def persist_image(folder_path:str,url:str):\n",
    "    try:\n",
    "        image_content = requests.get(url).content\n",
    "\n",
    "    except Exception as e:\n",
    "        print(f\"ERROR - Could not download {url} - {e}\")\n",
    "      \n",
    "            \n",
    "    try:\n",
    "        image_file = io.BytesIO(image_content)\n",
    "        image = Image.open(image_file).convert('RGB')\n",
    "        file_path = os.path.join(folder_path,hashlib.sha1(image_content).hexdigest()[:10] + '.jpg')\n",
    "        with open(file_path, 'wb') as f:\n",
    "            image.save(f, \"JPEG\", quality=85)\n",
    "        print(f\"SUCCESS - saved {url} - as {file_path}\")\n",
    "    except Exception as e:\n",
    "        print(f\"ERROR - Could not save {url} - {e}\")"
   ]
  },
  {
   "cell_type": "code",
   "execution_count": 14,
   "metadata": {},
   "outputs": [],
   "source": [
    "def search_and_download(search_term:str,driver_path:str,target_path='./images',number_images=5):\n",
    "    target_folder = os.path.join(target_path,'_'.join(search_term.lower().split(' ')))\n",
    "\n",
    "    if not os.path.exists(target_folder):\n",
    "        os.makedirs(target_folder)\n",
    "\n",
    "    with webdriver.Chrome(executable_path=driver_path) as wd:\n",
    "        res = fetch_image_urls(search_term, number_images, wd=wd, sleep_between_interactions=0.5)\n",
    "        \n",
    "    for elem in res:\n",
    "        persist_image(target_folder,elem)"
   ]
  },
  {
   "cell_type": "code",
   "execution_count": 25,
   "metadata": {},
   "outputs": [
    {
     "name": "stdout",
     "output_type": "stream",
     "text": [
      "Found: 100 search results. Extracting links from 0:100\n",
      "Found: 2 image links, done!\n",
      "SUCCESS - saved https://upload.wikimedia.org/wikipedia/commons/6/6c/Abhar-iran.JPG - as ./images\\grapes\\1d3a05494b.jpg\n",
      "SUCCESS - saved https://www.morethanshipping.com/wp-content/uploads/2020/08/us-leader-in-grapes-mts-2020.jpg - as ./images\\grapes\\4afcf1fac8.jpg\n",
      "Found: 100 search results. Extracting links from 0:100\n",
      "Found: 2 image links, done!\n",
      "SUCCESS - saved https://www.sonachgefuehl.de/wp-content/uploads/2019/05/Caesar_Salad_01.jpg - as ./images\\salad\\aa9878a252.jpg\n",
      "SUCCESS - saved https://image.essen-und-trinken.de/11952552/t/QD/v10/w960/r1/-/eut-mit-thermomix-201802016-chicken-caesar-salad-jpg--65187-.jpg - as ./images\\salad\\9da30d839b.jpg\n",
      "Found: 100 search results. Extracting links from 0:100\n",
      "Found: 2 image links, done!\n",
      "SUCCESS - saved https://img.chefkoch-cdn.de/rezepte/1576041265136617/bilder/823227/crop-960x720/risotto-grundrezept-mit-vier-abwandlungen.jpg - as ./images\\risotto\\5da7adc986.jpg\n",
      "SUCCESS - saved https://assets.tmecosys.com/image/upload/t_web767x639/img/recipe/ras/Assets/8D2A0883-95BA-4C9F-A575-303577F532D4/Derivates/A87AD746-0DFD-49AE-B1B2-071227001579.jpg - as ./images\\risotto\\e7a0682cca.jpg\n"
     ]
    }
   ],
   "source": [
    "foods = ['grapes',\n",
    " 'salad',\n",
    " 'lasagna',\n",
    " 'pancakes',\n",
    " 'sushi',\n",
    " 'ramen',\n",
    " 'tacos',\n",
    " 'pizza',\n",
    " 'steak',\n",
    " 'risotto']\n",
    "\n",
    "for food in foods:\n",
    "    search_and_download(\n",
    "        search_term=food,\n",
    "        driver_path='chromedriver.exe',\n",
    "        target_path='./food'\n",
    "        number_images=2)"
   ]
  },
  {
   "cell_type": "code",
   "execution_count": null,
   "metadata": {},
   "outputs": [],
   "source": []
  }
 ],
 "metadata": {
  "kernelspec": {
   "display_name": "Python 3",
   "language": "python",
   "name": "python3"
  },
  "language_info": {
   "codemirror_mode": {
    "name": "ipython",
    "version": 3
   },
   "file_extension": ".py",
   "mimetype": "text/x-python",
   "name": "python",
   "nbconvert_exporter": "python",
   "pygments_lexer": "ipython3",
   "version": "3.8.3"
  }
 },
 "nbformat": 4,
 "nbformat_minor": 5
}