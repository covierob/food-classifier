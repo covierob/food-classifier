{
 "cells": [
  {
   "cell_type": "markdown",
   "id": "white-ukraine",
   "metadata": {},
   "source": [
    "# Applied Data Science (2021-FS) - Projektarbeit\n",
    "\n",
    "### Autoren:\n",
    "<ul>\n",
    "<li>Coviello Roberto | cove@zhaw.ch</li>\n",
    "<li>Hauser Jonas | hausejo1@students.zhaw.ch</li>\n",
    "<li>Singh Manpreet | singhma3@students.zhaw.ch</li>\n",
    "</ul>\n",
    "\n",
    "## Analyse von Twitter Benutzerdaten mittels Tensorflow\n",
    "Unser Ziel ist es, ein Klassifizierungsmodell zu erstellen, das auf den Daten der Twitter-Benutzer basiert, um die Aktionen der Benutzer in der Zukunft vorherzusagen. Wir möchten abschätzen können, ob uns ein gewisser Benutzer uns folgen wird oder nicht, wenn wir ihm eine Anfrage schicken. Vereinfacht gesagt, soll es uns helfen, Personen zu finden, die uns in Zukunft folgen werden und an unseren Inhalten interessiert sind.\n",
    "Wir haben ein fiktives Twitter-Profil erstellt, welches Inhalte über Kryptographie und Kryptowährungen veröffentlicht. Wir möchten also Follower anziehen, welche sich für diese Themen interessieren."
   ]
  },
  {
   "cell_type": "markdown",
   "id": "determined-blond",
   "metadata": {},
   "source": [
    "Um mit der Twitter-API zu kommunizieren benötigen wir zunächst ein package\n",
    "<code>pip install python-twitter<code>\n",
    "\n",
    "Danach erstellen wir auf der Twitter Developer Platform ein Applikation, um die Credentials zu erhalten. Diese benötigen wir, um für die Bedienung der API berechtigt zu sein. Nun können wir uns mit der Twitter API verbinden."
   ]
  },
  {
   "cell_type": "code",
   "execution_count": null,
   "id": "looking-breath",
   "metadata": {},
   "outputs": [],
   "source": [
    "import twitter\n",
    "\n",
    "api = twitter.Api(consumer_key=[consumer key],\n",
    "                  consumer_secret=[consumer secret],\n",
    "                  access_token_key=[access token],\n",
    "                  access_token_secret=[access token secret])\n",
    "\n",
    "print(api.VerifyCredentials())"
   ]
  },
  {
   "cell_type": "markdown",
   "id": "sunrise-france",
   "metadata": {},
   "source": [
    "Da wir zu Beginn kein Twitter-Konto mit vielen Followern hatten, müssen wir zunächst ein Netzwerk aufbauen, um dann später an die Daten zu kommen, welche wir später für unser Model benötigen."
   ]
  },
  {
   "cell_type": "markdown",
   "id": "shared-hybrid",
   "metadata": {},
   "source": [
    "Der folgende Code gibt uns detaillierte Informationen über die einzelnen Benutzer:"
   ]
  },
  {
   "cell_type": "code",
   "execution_count": null,
   "id": "formed-distributor",
   "metadata": {},
   "outputs": [],
   "source": [
    "twitter_rockstar = (api.GetUser(screen_name='any_popular_user'))\n",
    "followers_of_twitter_rockstar = api.GetFollowerIDs(oto.id_str)\n",
    "print(followers_of_twitter_rockstar)"
   ]
  },
  {
   "cell_type": "markdown",
   "id": "resistant-environment",
   "metadata": {},
   "source": [
    "Diese Daten können wir für unser Model verwenden, decoh möchten wir nur den Personen folgen, welche die gleichen Interessen haben wie wir. Diese Interessen legen wir in folgendem Code fest:"
   ]
  },
  {
   "cell_type": "code",
   "execution_count": null,
   "id": "encouraging-solomon",
   "metadata": {},
   "outputs": [],
   "source": [
    "my_followers = api.GetFollowerIDs()\n",
    "my_friends = api.GetFriendIDs()\n",
    "\n",
    "for i, follower_id in enumerate(followers_of_twitter_rockstar[0:1000]):\n",
    "    try:\n",
    "\n",
    "        user = (api.GetUser(user_id=follower_id))\n",
    "        is_user_protected = int(user.protected)\n",
    "        if not is_user_protected:\n",
    "            aim_user_user_name = user.screen_name\n",
    "            user_id = user.id_str\n",
    "            user_created_at = int(user.created_at[-4:])\n",
    "            user_favourites_count = user.favourites_count\n",
    "            user_followers_count = user.followers_count\n",
    "            user_friends_count = user.friends_count\n",
    "            user_name = user.name\n",
    "            user_statuses_count = user.statuses_count\n",
    "            user_follows_me = int(follower_id in my_followers)\n",
    "            user_is_friend = int(follower_id in my_friends)\n",
    "            last_post_created_at = user.status.created_at\n",
    "            user_bio = user.description.lower()\n",
    "            \n",
    "\n",
    "            interests = ['crypto', 'bitcoin', 'ethereum', 'blockchain', 'cryptocurrency', 'dapp', 'fintech', 'hash',\n",
    "                                 'fork', 'defi', 'nft', 'p2p', 'mining', 'proofofwork', 'smartcontract','token',\n",
    "                                 'wallet','stablecoin','binance','btc']\n",
    "\n",
    "            if any(interest in user_bio for interest in interests) \\\n",
    "                    and user_favourites_count > 20 \\\n",
    "                    and user_friends_count > 100:\n",
    "              pass\n",
    "\n",
    "    except:\n",
    "       continue"
   ]
  },
  {
   "cell_type": "markdown",
   "id": "dramatic-lightweight",
   "metadata": {},
   "source": [
    "Wir benutzen ein if-statement, um die Personen herauszufiltern, die nicht aktiv sind auf Twitter, um nicht als Spam klassifiziert zu werden."
   ]
  },
  {
   "cell_type": "markdown",
   "id": "agreed-interview",
   "metadata": {},
   "source": [
    "Um unsere Informationen über die Nutzer zu speichern benutzen wir eine realtionale Datenbank (sqlite3):"
   ]
  },
  {
   "cell_type": "code",
   "execution_count": null,
   "id": "prescription-lucas",
   "metadata": {},
   "outputs": [],
   "source": [
    "import sqlite3\n",
    "\n",
    "conn = sqlite3.connect('twitter.sqlite')\n",
    "cur = conn.cursor()\n",
    "\n",
    "#...\n",
    "#...\n",
    "#...\n",
    "\n",
    "\n",
    "# main loop, where we get information interesting users:\n",
    "                new_friend = api.CreateFriendship(user_id=user.id_str, follow=False, retweets=False)\n",
    "                create_mute = api.CreateMute(user_id=user.id_str)\n",
    "\n",
    "                cur.execute('''INSERT OR REPLACE INTO users\n",
    "                  (\n",
    "                    id, \n",
    "                    user_name, \n",
    "                    created_at,\n",
    "                    favourites_count, \n",
    "                    followers_count, \n",
    "                    friends_count, \n",
    "                    name, \n",
    "                    statuses_count, \n",
    "                    follows_me, \n",
    "                    i_am_following\n",
    "                  ) VALUES ( ?, ?, ?, ?, ?, ?, ?, ?, ?, ?)''',\n",
    "                            (id,\n",
    "                             user_name,\n",
    "                             user_created_at,\n",
    "                             user_favourites_count,\n",
    "                             user_followers_count,\n",
    "                             user_friends_count,\n",
    "                             user_name,\n",
    "                             user_statuses_count,\n",
    "                             user_follows_me,\n",
    "                             user_is_friend))\n",
    "                conn.commit()"
   ]
  },
  {
   "cell_type": "code",
   "execution_count": null,
   "id": "blocked-patent",
   "metadata": {},
   "outputs": [],
   "source": []
  }
 ],
 "metadata": {
  "kernelspec": {
   "display_name": "Python 3",
   "language": "python",
   "name": "python3"
  },
  "language_info": {
   "codemirror_mode": {
    "name": "ipython",
    "version": 3
   },
   "file_extension": ".py",
   "mimetype": "text/x-python",
   "name": "python",
   "nbconvert_exporter": "python",
   "pygments_lexer": "ipython3",
   "version": "3.8.8"
  }
 },
 "nbformat": 4,
 "nbformat_minor": 5
}
